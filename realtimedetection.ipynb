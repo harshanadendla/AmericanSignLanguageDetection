{
  "nbformat": 4,
  "nbformat_minor": 0,
  "metadata": {
    "colab": {
      "name": "realtimedetection.ipynb",
      "provenance": []
    },
    "kernelspec": {
      "name": "python3",
      "display_name": "Python 3"
    },
    "language_info": {
      "name": "python"
    }
  },
  "cells": [
    {
      "cell_type": "code",
      "source": [
        "import keras\n",
        "import cv2\n",
        "import numpy as np\n",
        "from keras.preprocessing.image import img_to_array\n",
        "import imutils\n",
        "import os"
      ],
      "metadata": {
        "id": "TVLn-__VhgZL"
      },
      "execution_count": null,
      "outputs": []
    },
    {
      "cell_type": "code",
      "source": [
        "alphabet=['A','B','C','D','E','F','G','H','I','K','L','M','N','O','P','Q','R','S','T','U','V','W','X','Y']\n",
        "model = keras.models.load_model(\"sign_language\")"
      ],
      "metadata": {
        "id": "Y6-j_voTiAw0"
      },
      "execution_count": null,
      "outputs": []
    },
    {
      "cell_type": "code",
      "source": [
        "def classify(image):\n",
        "    image = cv2.resize(image, (28, 28))\n",
        "    image = image.astype(\"float\") / 255.0\n",
        "    image = img_to_array(image)\n",
        "    image = np.expand_dims(image, axis=0)\n",
        "    proba=model.predict(image)\n",
        "    idx = np.argmax(proba)\n",
        "    return alphabet[idx]"
      ],
      "metadata": {
        "id": "Dr8HzLCZiCIj"
      },
      "execution_count": null,
      "outputs": []
    },
    {
      "cell_type": "code",
      "source": [
        "cap = cv2.VideoCapture(0)\n",
        "while 1:\n",
        "    ret, img = cap.read()\n",
        "    image = cv2.imread('amer_sign2.png')\n",
        "    cv2.imshow(\"image\", image)\n",
        "    img = cv2.flip(img, 1)\n",
        "    top, right, bottom, left = 75, 350, 300, 590\n",
        "    roi = img[top:bottom, right:left]\n",
        "    roi=cv2.flip(roi,1)\n",
        "    gray = cv2.cvtColor(roi, cv2.COLOR_BGR2GRAY)\n",
        "    gray = cv2.GaussianBlur(gray, (7, 7), 0)\n",
        "    cv2.imshow('roi',gray)\n",
        "    alpha=classify(gray)\n",
        "    cv2.rectangle(img, (left, top), (right, bottom), (0,255,0), 2)\n",
        "    font=cv2.FONT_HERSHEY_SIMPLEX\n",
        "    cv2.putText(img,alpha,(0,130),font,5,(0,0,255),2)\n",
        "    #cv2.resize(img,(1000,1000))\n",
        "    cv2.imshow('img',img)\n",
        "    key = cv2.waitKey(1) & 0xFF\n",
        "    if key==ord('q'):\n",
        "        break;\n",
        "cap.release()\n",
        "cv2.destroyAllWindows()"
      ],
      "metadata": {
        "id": "JR03_1lOiDqs"
      },
      "execution_count": null,
      "outputs": []
    }
  ]
}